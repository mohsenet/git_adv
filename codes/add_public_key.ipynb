{
 "cells": [
  {
   "cell_type": "markdown",
   "id": "89abc1f1-6dba-479d-a356-f99cd08f2349",
   "metadata": {},
   "source": [
    "# ~/.ssh/\n",
    "# After run following command you can find public key (id_ed25519.pub) in the above path\n",
    "ssh-keygen -t ed25519 -C \"your_email@example.com\"\n",
    "\n",
    "# After that add your public key on github or gitlab\n",
    "\n",
    "# Update your Git repository to use SSH instead of HTTPS\n",
    "git remote set-url origin git@github.com:mohsenet/my_git_adventures.git\n",
    "\n",
    "# Enter the following command the first time\n",
    "git push -u origin main\n",
    "\n",
    "# Next time, the following command is enough\n",
    "git push\n",
    "\n",
    "# Now you can uset it passwordless to connect and push to server"
   ]
  }
 ],
 "metadata": {
  "kernelspec": {
   "display_name": "Python 3 (ipykernel)",
   "language": "python",
   "name": "python3"
  },
  "language_info": {
   "codemirror_mode": {
    "name": "ipython",
    "version": 3
   },
   "file_extension": ".py",
   "mimetype": "text/x-python",
   "name": "python",
   "nbconvert_exporter": "python",
   "pygments_lexer": "ipython3",
   "version": "3.10.12"
  }
 },
 "nbformat": 4,
 "nbformat_minor": 5
}
